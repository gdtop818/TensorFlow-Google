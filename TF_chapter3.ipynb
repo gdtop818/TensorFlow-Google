{
 "cells": [
  {
   "cell_type": "code",
   "execution_count": 4,
   "metadata": {},
   "outputs": [],
   "source": [
    "import tensorflow as tf\n",
    "a = tf.constant([1.0, 2.0], name = \"a\") \n",
    "b = tf.constant([2.0, 3.0], name = \"b\")\n",
    "\n",
    "result = a+ b"
   ]
  },
  {
   "cell_type": "code",
   "execution_count": 5,
   "metadata": {},
   "outputs": [
    {
     "name": "stdout",
     "output_type": "stream",
     "text": [
      "[0.]\n[1.]\n"
     ]
    }
   ],
   "source": [
    "# 3.1 计算图\n",
    "import tensorflow as tf\n",
    "\n",
    "g1 = tf.Graph()\n",
    "with g1.as_default():\n",
    "    v = tf.get_variable(\"v\", [1], initializer = tf.zeros_initializer()) # 设置初始值为0\n",
    "\n",
    "g2 = tf.Graph()\n",
    "with g2.as_default():\n",
    "    v = tf.get_variable(\"v\", [1], initializer = tf.ones_initializer())  # 设置初始值为1\n",
    "    \n",
    "with tf.Session(graph = g1) as sess:\n",
    "    tf.global_variables_initializer().run()\n",
    "    with tf.variable_scope(\"\", reuse=True):\n",
    "        print(sess.run(tf.get_variable(\"v\")))\n",
    "\n",
    "with tf.Session(graph = g2) as sess:\n",
    "    tf.global_variables_initializer().run()\n",
    "    with tf.variable_scope(\"\", reuse=True):\n",
    "        print(sess.run(tf.get_variable(\"v\")))"
   ]
  },
  {
   "cell_type": "code",
   "execution_count": 6,
   "metadata": {},
   "outputs": [
    {
     "name": "stdout",
     "output_type": "stream",
     "text": [
      "Tensor(\"add_2:0\", shape=(2,), dtype=float32)\n[3. 5.]\n"
     ]
    }
   ],
   "source": [
    "# 3.2 张量\n",
    "import tensorflow as tf\n",
    "a = tf.constant([1.0, 2.0], name=\"a\")\n",
    "b = tf.constant([2.0, 3.0], name=\"b\")\n",
    "result = a + b\n",
    "print(result)\n",
    "\n",
    "sess = tf.InteractiveSession ()\n",
    "print(result.eval())\n",
    "sess.close()"
   ]
  },
  {
   "cell_type": "code",
   "execution_count": 7,
   "metadata": {},
   "outputs": [
    {
     "name": "stdout",
     "output_type": "stream",
     "text": [
      "[3. 5.]\n[3. 5.]\n[3. 5.]\n[3. 5.]\n[3. 5.]\n[3. 5.]\n"
     ]
    }
   ],
   "source": [
    "# 3.3 会话\n",
    "# 创建一个会话。\n",
    "sess = tf.Session()\n",
    "\n",
    "# 使用会话得到之前计算的结果。\n",
    "print(sess.run(result))\n",
    "\n",
    "# 关闭会话使得本次运行中使用到的资源可以被释放。\n",
    "sess.close()\n",
    "\n",
    "# 使用with statement 来创建会话\n",
    "with tf.Session() as sess:\n",
    "    print(sess.run(result))\n",
    "\n",
    "# 指定默认会话\n",
    "sess = tf.Session()\n",
    "with sess.as_default():\n",
    "     print(result.eval())\n",
    "\n",
    "# 下面的两个命令有相同的功能。\n",
    "print(sess.run(result))\n",
    "print(result.eval(session=sess))\n",
    "\n",
    "# 使用tf.InteractiveSession构建会话\n",
    "sess = tf.InteractiveSession ()\n",
    "print(result.eval())\n",
    "sess.close()\n",
    "\n",
    "# 通过ConfigProto配置会话\n",
    "\n",
    "config=tf.ConfigProto(allow_soft_placement=True, log_device_placement=True)\n",
    "sess1 = tf.InteractiveSession(config=config)\n",
    "sess2 = tf.Session(config=config)"
   ]
  },
  {
   "cell_type": "code",
   "execution_count": 14,
   "metadata": {},
   "outputs": [
    {
     "name": "stdout",
     "output_type": "stream",
     "text": [
      "[[3.957578]]\n"
     ]
    }
   ],
   "source": [
    "# 3.4 神经网络\n",
    "#  三层简单神经网络\n",
    "# 定义变量\n",
    "w1 = tf.Variable(tf.random_normal(shape = [2,3], stddev = 1, seed = 1))\n",
    "w2 = tf.Variable(tf.random_normal(shape = [3,1], stddev = 1, seed = 1))\n",
    "x = tf.constant([[0.7,0.9]])\n",
    "\n",
    "# 前向传播\n",
    "a = tf.matmul(x , w1)\n",
    "y = tf.matmul(a, w2)\n",
    "\n",
    "# 调用会话运行\n",
    "sess = tf.Session()\n",
    "sess.run(w1.initializer)\n",
    "sess.run(w2.initializer)  \n",
    "print(sess.run(y))  \n",
    "sess.close()"
   ]
  },
  {
   "cell_type": "code",
   "execution_count": 17,
   "metadata": {},
   "outputs": [
    {
     "data": {
      "text/plain": [
       "array([[3.957578]], dtype=float32)"
      ]
     },
     "execution_count": 17,
     "metadata": {},
     "output_type": "execute_result"
    }
   ],
   "source": [
    "# 调用placeholder\n",
    "x = tf.placeholder(tf.float32, shape = (1,2),  name = \"input\")\n",
    "a = tf.matmul(x , w1)\n",
    "y = tf.matmul(a, w2)\n",
    "\n",
    "# 使用tf.global_variables_initializer()来初始化所有的变量\n",
    "sess = tf.Session()\n",
    "init_op = tf.global_variables_initializer()  \n",
    "sess.run(init_op)\n",
    "sess.run(y, feed_dict = {x:[[0.7,0.9]]})"
   ]
  },
  {
   "cell_type": "code",
   "execution_count": 22,
   "metadata": {},
   "outputs": [
    {
     "name": "stdout",
     "output_type": "stream",
     "text": [
      "[[3.957578 ]\n [1.1537654]\n [3.1674924]]\n"
     ]
    }
   ],
   "source": [
    "# 增加多个输入\n",
    "x = tf.placeholder(tf.float32, shape = (3,2),  name = \"input\")\n",
    "a = tf.matmul(x , w1)\n",
    "y = tf.matmul(a, w2)\n",
    "\n",
    "#使用tf.global_variables_initializer()来初始化所有的变量\n",
    "with tf.Session() as sess:\n",
    "    init_op = tf.global_variables_initializer()\n",
    "    sess.run(init_op)\n",
    "    \n",
    "    print(sess.run(y, feed_dict={x: [[0.7,0.9],[0.1,0.4],[0.5,0.8]]}))"
   ]
  },
  {
   "cell_type": "code",
   "execution_count": 9,
   "metadata": {},
   "outputs": [],
   "source": [
    "# 3.5 完整神经网络\n",
    "import tensorflow as tf\n",
    "from numpy.random import RandomState\n",
    "\n",
    "# 定义神经网络的参数，输入和输出节点\n",
    "batch_size = 8\n",
    "w1 = tf.Variable(tf.random_normal(shape = [2,3], seed = 1, stddev = 1))\n",
    "w2 = tf.Variable(tf.random_normal(shape = [3,1], seed = 1, stddev = 1))\n",
    "x = tf.placeholder(tf.float32, shape = (None, 2), name = \"x-input\")\n",
    "y_ = tf.placeholder(tf.float32, shape = (None, 1), name = \"y-input\") # 真实值\n",
    "\n",
    "# 定义前向传播过程，损失函数及反向传播算法\n",
    "a = tf.matmul(x, w1)\n",
    "y = tf.matmul(a, w2) # 预测值\n",
    "\n",
    "cross_entropy = -tf.reduce_mean(y_ * tf.log(tf.clip_by_value(y, 1e-10, 1.0))\n",
    "                               + (1 - y_) * tf.log(tf.clip_by_value(1-y, 1e-10, 1.0)))\n",
    "train_step = tf.train.AdamOptimizer(0.001).minimize(cross_entropy)\n",
    "\n",
    "# 生成模拟数据集\n",
    "rdm = RandomState(1)\n",
    "X = rdm.rand(128,2)\n",
    "Y = [[int(x1+x2 < 1)] for (x1, x2) in X]\n",
    "\n",
    "# 创建一个会话来运行TensorFlow程序\n",
    "with tf.Session() as sess:\n",
    "    init_op = tf.global_variables_initializer()\n",
    "    sess.run(init_op)\n",
    "    \n",
    "    # 输出目前（未经训练）的参数取值。\n",
    "    print(\"w1:\", sess.run(w1))\n",
    "    print(\"w2:\", sess.run(w2))\n",
    "    print(\"\\n\")\n",
    "    \n",
    "    # 训练模型。\n",
    "    STEPS = 5000\n",
    "    for i in range(STEPS):\n",
    "        start = (i*batch_size) % 128\n",
    "        end = (i*batch_size) % 128 + batch_size\n",
    "        sess.run(train_step, feed_dict={x: X[start:end], y_: Y[start:end]})\n",
    "        if i % 1000 == 0:\n",
    "            total_cross_entropy = sess.run(cross_entropy, feed_dict={x: X, y_: Y})\n",
    "            print(\"After %d training step(s), cross entropy on all data is %g\" % (i, total_cross_entropy))\n",
    "    \n",
    "    # 输出训练后的参数取值。\n",
    "    print(\"\\n\")\n",
    "    print(\"w1:\", sess.run(w1))\n",
    "    print(\"w2:\", sess.run(w2))"
   ]
  },
  {
   "cell_type": "code",
   "execution_count": 9,
   "metadata": {},
   "outputs": [],
   "source": [
    ""
   ]
  },
  {
   "cell_type": "code",
   "execution_count": 9,
   "metadata": {},
   "outputs": [],
   "source": [
    ""
   ]
  },
  {
   "cell_type": "code",
   "execution_count": 9,
   "metadata": {},
   "outputs": [],
   "source": [
    ""
   ]
  },
  {
   "cell_type": "code",
   "execution_count": 9,
   "metadata": {},
   "outputs": [],
   "source": [
    ""
   ]
  },
  {
   "cell_type": "code",
   "execution_count": 9,
   "metadata": {},
   "outputs": [],
   "source": [
    ""
   ]
  },
  {
   "cell_type": "code",
   "execution_count": 9,
   "metadata": {},
   "outputs": [],
   "source": [
    ""
   ]
  },
  {
   "cell_type": "code",
   "execution_count": null,
   "metadata": {},
   "outputs": [],
   "source": [
    ""
   ]
  }
 ],
 "metadata": {
  "kernelspec": {
   "display_name": "Python 3",
   "language": "python",
   "name": "python3"
  },
  "language_info": {
   "codemirror_mode": {
    "name": "ipython",
    "version": 3.0
   },
   "file_extension": ".py",
   "mimetype": "text/x-python",
   "name": "python",
   "nbconvert_exporter": "python",
   "pygments_lexer": "ipython3",
   "version": "3.5.4"
  }
 },
 "nbformat": 4,
 "nbformat_minor": 0
}