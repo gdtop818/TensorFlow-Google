{
 "cells": [
  {
   "cell_type": "code",
   "execution_count": 2,
   "metadata": {
    "collapsed": true
   },
   "outputs": [
    {
     "name": "stdout",
     "output_type": "stream",
     "text": [
      "before activation:  [0.6 0.5]\nstate:  [0.53704957 0.46211716]\noutput:  [1.56128388]\nbefore activation:  [1.2923401  1.39225678]\nstate:  [0.85973818 0.88366641]\noutput:  [2.72707101]\n"
     ]
    }
   ],
   "source": [
    "import numpy as np\n",
    "X = [1, 2]\n",
    "state = [0.0, 0.0]\n",
    "w_cell_state = np.asarray([[0.1, 0.2], [0.3, 0.4]])\n",
    "w_cell_input = np.asarray([0.5, 0.6])\n",
    "b_cell = np.asarray([0.1, -0.1])\n",
    "\n",
    "# 定义输出的全连接层参数\n",
    "w_output = np.asarray([[1.0], [2.0]])\n",
    "b_output = 0.1\n",
    "\n",
    "# 前向传播\n",
    "for i in range(len(X)):\n",
    "    # 计算循环体中的全连接层神经网络\n",
    "    before_activation = np.dot(state, w_cell_state) + X[i] * w_cell_input + b_cell\n",
    "    state = np.tanh(before_activation)\n",
    "    final_output = np.dot(state, w_output) + b_output\n",
    "    print(\"before activation: \", before_activation)\n",
    "    print(\"state: \", state)\n",
    "    print(\"output: \", final_output)"
   ]
  },
  {
   "cell_type": "code",
   "execution_count": 3,
   "metadata": {},
   "outputs": [],
   "source": [
    ""
   ]
  },
  {
   "cell_type": "code",
   "execution_count": 10,
   "metadata": {},
   "outputs": [
    {
     "ename": "NameError",
     "evalue": "name 'lstm_hidden_size' is not defined",
     "traceback": [
      "\u001b[1;31m---------------------------------------------------------------------------\u001b[0m",
      "\u001b[1;31mNameError\u001b[0m                                 Traceback (most recent call last)",
      "\u001b[1;32m<ipython-input-10-57813aed00d8>\u001b[0m in \u001b[0;36m<module>\u001b[1;34m()\u001b[0m\n\u001b[0;32m      2\u001b[0m \u001b[1;32mimport\u001b[0m \u001b[0mtensorflow\u001b[0m \u001b[1;32mas\u001b[0m \u001b[0mtf\u001b[0m\u001b[1;33m\u001b[0m\u001b[0m\n\u001b[0;32m      3\u001b[0m \u001b[1;32mfrom\u001b[0m \u001b[0mtensorflow\u001b[0m\u001b[1;33m.\u001b[0m\u001b[0mcontrib\u001b[0m \u001b[1;32mimport\u001b[0m \u001b[0mrnn\u001b[0m\u001b[1;33m\u001b[0m\u001b[0m\n\u001b[1;32m----> 4\u001b[1;33m \u001b[0mlstm\u001b[0m \u001b[1;33m=\u001b[0m \u001b[0mrnn\u001b[0m\u001b[1;33m.\u001b[0m\u001b[0mBasicLSTMCell\u001b[0m\u001b[1;33m(\u001b[0m\u001b[0mlstm_hidden_size\u001b[0m\u001b[1;33m)\u001b[0m\u001b[1;33m\u001b[0m\u001b[0m\n\u001b[0m\u001b[0;32m      5\u001b[0m \u001b[1;33m\u001b[0m\u001b[0m\n\u001b[0;32m      6\u001b[0m \u001b[1;31m# 将lstm设置为全0数组。\u001b[0m\u001b[1;33m\u001b[0m\u001b[1;33m\u001b[0m\u001b[0m\n",
      "\u001b[1;31mNameError\u001b[0m: name 'lstm_hidden_size' is not defined"
     ],
     "output_type": "error"
    }
   ],
   "source": [
    "# lstm\n",
    "import tensorflow as tf\n",
    "from tensorflow.contrib import rnn\n",
    "lstm = rnn.BasicLSTMCell(lstm_hidden_size)\n",
    "\n",
    "# 将lstm设置为全0数组。\n",
    "state = lstm.zero_state(batch_size, tf.float32)\n",
    "\n",
    "# 定义损失函数\n",
    "loss = 0.0 \n",
    "# num_step表示长度\n",
    "for i in range(num_steps):\n",
    "    if i> 0: tf.get_variable_scope().reuse_variables()\n",
    "    \n",
    "    # 每一步处理时间的一个时刻\n",
    "    lstm_output, state = lstm(current_input, state)\n",
    "    final_output = fully_connected(lstm_output)\n",
    "    \n",
    "    loss += calc_loss(final_output, expected_output)"
   ]
  },
  {
   "cell_type": "code",
   "execution_count": null,
   "metadata": {},
   "outputs": [],
   "source": [
    ""
   ]
  }
 ],
 "metadata": {
  "kernelspec": {
   "display_name": "Python 2",
   "language": "python",
   "name": "python2"
  },
  "language_info": {
   "codemirror_mode": {
    "name": "ipython",
    "version": 2.0
   },
   "file_extension": ".py",
   "mimetype": "text/x-python",
   "name": "python",
   "nbconvert_exporter": "python",
   "pygments_lexer": "ipython2",
   "version": "2.7.6"
  }
 },
 "nbformat": 4,
 "nbformat_minor": 0
}