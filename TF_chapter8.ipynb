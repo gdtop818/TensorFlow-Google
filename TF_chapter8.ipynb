{
 "cells": [
  {
   "cell_type": "code",
   "execution_count": 2,
   "metadata": {
    "collapsed": true
   },
   "outputs": [
    {
     "name": "stdout",
     "output_type": "stream",
     "text": [
      "before activation:  [0.6 0.5]\nstate:  [0.53704957 0.46211716]\noutput:  [1.56128388]\nbefore activation:  [1.2923401  1.39225678]\nstate:  [0.85973818 0.88366641]\noutput:  [2.72707101]\n"
     ]
    }
   ],
   "source": [
    "import numpy as np\n",
    "X = [1, 2]\n",
    "state = [0.0, 0.0]\n",
    "w_cell_state = np.asarray([[0.1, 0.2], [0.3, 0.4]])\n",
    "w_cell_input = np.asarray([0.5, 0.6])\n",
    "b_cell = np.asarray([0.1, -0.1])\n",
    "\n",
    "# 定义输出的全连接层参数\n",
    "w_output = np.asarray([[1.0], [2.0]])\n",
    "b_output = 0.1\n",
    "\n",
    "# 前向传播\n",
    "for i in range(len(X)):\n",
    "    # 计算循环体中的全连接层神经网络\n",
    "    before_activation = np.dot(state, w_cell_state) + X[i] * w_cell_input + b_cell\n",
    "    state = np.tanh(before_activation)\n",
    "    final_output = np.dot(state, w_output) + b_output\n",
    "    print(\"before activation: \", before_activation)\n",
    "    print(\"state: \", state)\n",
    "    print(\"output: \", final_output)"
   ]
  },
  {
   "cell_type": "code",
   "execution_count": 3,
   "metadata": {},
   "outputs": [],
   "source": [
    ""
   ]
  },
  {
   "cell_type": "code",
   "execution_count": 10,
   "metadata": {},
   "outputs": [
    {
     "ename": "NameError",
     "evalue": "name 'lstm_hidden_size' is not defined",
     "traceback": [
      "\u001b[1;31m---------------------------------------------------------------------------\u001b[0m",
      "\u001b[1;31mNameError\u001b[0m                                 Traceback (most recent call last)",
      "\u001b[1;32m<ipython-input-10-57813aed00d8>\u001b[0m in \u001b[0;36m<module>\u001b[1;34m()\u001b[0m\n\u001b[0;32m      2\u001b[0m \u001b[1;32mimport\u001b[0m \u001b[0mtensorflow\u001b[0m \u001b[1;32mas\u001b[0m \u001b[0mtf\u001b[0m\u001b[1;33m\u001b[0m\u001b[0m\n\u001b[0;32m      3\u001b[0m \u001b[1;32mfrom\u001b[0m \u001b[0mtensorflow\u001b[0m\u001b[1;33m.\u001b[0m\u001b[0mcontrib\u001b[0m \u001b[1;32mimport\u001b[0m \u001b[0mrnn\u001b[0m\u001b[1;33m\u001b[0m\u001b[0m\n\u001b[1;32m----> 4\u001b[1;33m \u001b[0mlstm\u001b[0m \u001b[1;33m=\u001b[0m \u001b[0mrnn\u001b[0m\u001b[1;33m.\u001b[0m\u001b[0mBasicLSTMCell\u001b[0m\u001b[1;33m(\u001b[0m\u001b[0mlstm_hidden_size\u001b[0m\u001b[1;33m)\u001b[0m\u001b[1;33m\u001b[0m\u001b[0m\n\u001b[0m\u001b[0;32m      5\u001b[0m \u001b[1;33m\u001b[0m\u001b[0m\n\u001b[0;32m      6\u001b[0m \u001b[1;31m# 将lstm设置为全0数组。\u001b[0m\u001b[1;33m\u001b[0m\u001b[1;33m\u001b[0m\u001b[0m\n",
      "\u001b[1;31mNameError\u001b[0m: name 'lstm_hidden_size' is not defined"
     ],
     "output_type": "error"
    }
   ],
   "source": [
    "# lstm\n",
    "import tensorflow as tf\n",
    "from tensorflow.contrib import rnn\n",
    "lstm = rnn.BasicLSTMCell(lstm_hidden_size)\n",
    "\n",
    "# 将lstm设置为全0数组。\n",
    "state = lstm.zero_state(batch_size, tf.float32)\n",
    "\n",
    "# 定义损失函数\n",
    "loss = 0.0 \n",
    "# num_step表示长度\n",
    "for i in range(num_steps):\n",
    "    if i> 0: tf.get_variable_scope().reuse_variables()\n",
    "    \n",
    "    # 每一步处理时间的一个时刻\n",
    "    lstm_output, state = lstm(current_input, state)\n",
    "    final_output = fully_connected(lstm_output)\n",
    "    \n",
    "    loss += calc_loss(final_output, expected_output)"
   ]
  },
  {
   "cell_type": "code",
   "execution_count": null,
   "metadata": {},
   "outputs": [],
   "source": [
    "import numpy as np\n",
    "import tensorflow as tf\n",
    "from tensorflow.contrib.learn.python.learn.estimators.estimator import SKCompat\n",
    "from tensorflow.python.ops import array_ops as array_ops_\n",
    "import matplotlib.pyplot as plt\n",
    "learn = tf.contrib.learn\n",
    "\n",
    "HIDDEN_SIZE = 30\n",
    "NUM_LAYERS = 2\n",
    "\n",
    "TIMESTEPS = 10\n",
    "TRAINING_STEPS = 3000\n",
    "BATCH_SIZE = 32\n",
    "\n",
    "TRAINING_EXAMPLES = 10000\n",
    "TESTING_EXAMPLES = 1000\n",
    "SAMPLE_GAP = 0.01\n",
    "\n",
    "def generate_data(seq):\n",
    "    X = []\n",
    "    y = []\n",
    "\n",
    "    for i in range(len(seq) - TIMESTEPS - 1):\n",
    "        X.append([seq[i: i + TIMESTEPS]])\n",
    "        y.append([seq[i + TIMESTEPS]])\n",
    "    return np.array(X, dtype=np.float32), np.array(y, dtype=np.float32)\n",
    "\n",
    "def lstm_model(X, y):\n",
    "    lstm_cell = tf.contrib.rnn.BasicLSTMCell(HIDDEN_SIZE, state_is_tuple=True)\n",
    "    cell = tf.contrib.rnn.MultiRNNCell([lstm_cell] * NUM_LAYERS)\n",
    "    \n",
    "    output, _ = tf.nn.dynamic_rnn(cell, X, dtype=tf.float32)\n",
    "    output = tf.reshape(output, [-1, HIDDEN_SIZE])\n",
    "    \n",
    "    # 通过无激活函数的全联接层计算线性回归，并将数据压缩成一维数组的结构。\n",
    "    predictions = tf.contrib.layers.fully_connected(output, 1, None)\n",
    "    \n",
    "    # 将predictions和labels调整统一的shape\n",
    "    labels = tf.reshape(y, [-1])\n",
    "    predictions=tf.reshape(predictions, [-1])\n",
    "    \n",
    "    loss = tf.losses.mean_squared_error(predictions, labels)\n",
    "    \n",
    "    train_op = tf.contrib.layers.optimize_loss(\n",
    "        loss, tf.contrib.framework.get_global_step(),\n",
    "        optimizer=\"Adagrad\", learning_rate=0.1)\n",
    "\n",
    "    return predictions, loss, train_op\n",
    "\n",
    "# 封装之前定义的lstm。\n",
    "regressor = SKCompat(learn.Estimator(model_fn=lstm_model,model_dir=\"Models/model_2\"))\n",
    "\n",
    "# 生成数据。\n",
    "test_start = TRAINING_EXAMPLES * SAMPLE_GAP\n",
    "test_end = (TRAINING_EXAMPLES + TESTING_EXAMPLES) * SAMPLE_GAP\n",
    "train_X, train_y = generate_data(np.sin(np.linspace(\n",
    "    0, test_start, TRAINING_EXAMPLES, dtype=np.float32)))\n",
    "test_X, test_y = generate_data(np.sin(np.linspace(\n",
    "    test_start, test_end, TESTING_EXAMPLES, dtype=np.float32)))\n",
    "\n",
    "# 拟合数据。\n",
    "regressor.fit(train_X, train_y, batch_size=BATCH_SIZE, steps=TRAINING_STEPS)\n",
    "\n",
    "# 计算预测值。\n",
    "predicted = [[pred] for pred in regressor.predict(test_X)]\n",
    "\n",
    "# 计算MSE。\n",
    "rmse = np.sqrt(((predicted - test_y) ** 2).mean(axis=0))\n",
    "print (\"Mean Square Error is: %f\" % rmse[0])\n",
    "\n",
    "plot_predicted, = plt.plot(predicted, label='predicted')\n",
    "plot_test, = plt.plot(test_y, label='real_sin')\n",
    "plt.legend([plot_predicted, plot_test],['predicted', 'real_sin'])\n",
    "plt.show()"
   ]
  }
 ],
 "metadata": {
  "kernelspec": {
   "display_name": "Python 2",
   "language": "python",
   "name": "python2"
  },
  "language_info": {
   "codemirror_mode": {
    "name": "ipython",
    "version": 2
   },
   "file_extension": ".py",
   "mimetype": "text/x-python",
   "name": "python",
   "nbconvert_exporter": "python",
   "pygments_lexer": "ipython2",
   "version": "2.7.6"
  }
 },
 "nbformat": 4,
 "nbformat_minor": 0
}
